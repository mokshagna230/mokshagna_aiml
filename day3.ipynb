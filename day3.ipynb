{
 "cells": [
  {
   "cell_type": "code",
   "execution_count": 25,
   "id": "f87cc135-67d4-41ed-8920-363d89a95a0d",
   "metadata": {},
   "outputs": [
    {
     "name": "stdout",
     "output_type": "stream",
     "text": [
      "[['apple', 10], ['bannana', 5], ['cherry', 10], ['dragon', 8], ['grape', 6], ['apple', 15]]\n",
      "[['apple', 10], ['bannana', 5], ['cherry', 10], ['dragon', 8], ['grape', 6], ['apple', 15], ['apple', 15]]\n",
      "[10, 15, 15]\n",
      "40\n"
     ]
    }
   ],
   "source": [
    "orders = [['apple',10],['bannana',5],['cherry',7],['dragon',8],['grape',6],['apple',15]]\n",
    "for each in orders:\n",
    "    if each[0] == \"cherry\":\n",
    "        each[1] = 10\n",
    "print(orders)\n",
    "orders.append([\"apple\",15])\n",
    "print(orders)\n",
    "\n",
    "total = []\n",
    "for each_item in orders:\n",
    "    if each_item[0] == \"apple\":\n",
    "        total.append(each_item[1])\n",
    "print(total)\n",
    "print(sum(total))\n",
    "        "
   ]
  },
  {
   "cell_type": "code",
   "execution_count": 29,
   "id": "4597b636-1860-4132-8444-dd0cf2f51776",
   "metadata": {},
   "outputs": [
    {
     "name": "stdout",
     "output_type": "stream",
     "text": [
      "(4, 10, 9, 'A', 9.81, False, (9-6j))\n",
      "<class 'tuple'>\n"
     ]
    }
   ],
   "source": [
    "tup1 = (4,10,9,\"A\",9.81,False,9-6j)\n",
    "print (tup1)\n",
    "print (type(tup1))"
   ]
  },
  {
   "cell_type": "code",
   "execution_count": 31,
   "id": "b00b78f5-fa4d-4d09-b88a-eb4a445448d1",
   "metadata": {},
   "outputs": [
    {
     "data": {
      "text/plain": [
       "(9.81, False)"
      ]
     },
     "execution_count": 31,
     "metadata": {},
     "output_type": "execute_result"
    }
   ],
   "source": [
    "tup1[4:6]\n"
   ]
  },
  {
   "cell_type": "code",
   "execution_count": 33,
   "id": "e346bdfa-cad3-4857-a610-3d40dd154d52",
   "metadata": {},
   "outputs": [
    {
     "data": {
      "text/plain": [
       "6"
      ]
     },
     "execution_count": 33,
     "metadata": {},
     "output_type": "execute_result"
    }
   ],
   "source": [
    "tup1.index(9-6j)"
   ]
  },
  {
   "cell_type": "code",
   "execution_count": 35,
   "id": "8577f8fe-081a-431b-ae98-c1bee2ff5bff",
   "metadata": {},
   "outputs": [
    {
     "data": {
      "text/plain": [
       "0"
      ]
     },
     "execution_count": 35,
     "metadata": {},
     "output_type": "execute_result"
    }
   ],
   "source": [
    "tup2 = (10,20,1,9,28,17,73,45)\n",
    "tup2.count(18)"
   ]
  },
  {
   "cell_type": "code",
   "execution_count": null,
   "id": "fd7cf834-f9ce-40cd-bcaf-c84165c48730",
   "metadata": {},
   "outputs": [],
   "source": []
  }
 ],
 "metadata": {
  "kernelspec": {
   "display_name": "Python [conda env:base] *",
   "language": "python",
   "name": "conda-base-py"
  },
  "language_info": {
   "codemirror_mode": {
    "name": "ipython",
    "version": 3
   },
   "file_extension": ".py",
   "mimetype": "text/x-python",
   "name": "python",
   "nbconvert_exporter": "python",
   "pygments_lexer": "ipython3",
   "version": "3.12.7"
  }
 },
 "nbformat": 4,
 "nbformat_minor": 5
}
