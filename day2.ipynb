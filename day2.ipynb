{
 "cells": [
  {
   "cell_type": "code",
   "execution_count": 17,
   "id": "bf857219-42af-40b2-b36f-e7f5d913332c",
   "metadata": {},
   "outputs": [
    {
     "name": "stdout",
     "output_type": "stream",
     "text": [
      "{'Virat Kohli': 122, 'Rohit Sharma': 264, 'MS Dhoni': 183, 'Shikhar Dhawan': 190, 'Hardik Pandya': 91, 'Jasprit Bumrah': 53}\n"
     ]
    }
   ],
   "source": [
    "   cricketers_scores = {\n",
    "    \"Virat Kohli\": 122,   \n",
    "    \"Rohit Sharma\": 264,  \n",
    "    \"MS Dhoni\": 183,     \n",
    "    \"Shikhar Dhawan\": 190, \n",
    "    \"Hardik Pandya\": 91, \n",
    "    \"Jasprit Bumrah\": 53, \n",
    "   }\n",
    "print(cricketers_scores)\n"
   ]
  },
  {
   "cell_type": "code",
   "execution_count": 5,
   "id": "b19c8aab-2c3a-4a36-9edd-77e3ca678921",
   "metadata": {},
   "outputs": [
    {
     "data": {
      "text/plain": [
       "{'A': 10, 'B': 10, 'C': 10, 'D': 10}"
      ]
     },
     "execution_count": 5,
     "metadata": {},
     "output_type": "execute_result"
    }
   ],
   "source": [
    "list1 = [\"A\",\"B\",\"C\",\"D\"]\n",
    "my_dict = dict.fromkeys(list1,10)\n",
    "my_dict\n"
   ]
  },
  {
   "cell_type": "code",
   "execution_count": 9,
   "id": "0ecbb47a-b462-4dbb-a8bb-03a2865d06b2",
   "metadata": {},
   "outputs": [
    {
     "ename": "SyntaxError",
     "evalue": "cannot assign to function call here. Maybe you meant '==' instead of '='? (409811378.py, line 3)",
     "output_type": "error",
     "traceback": [
      "\u001b[1;36m  Cell \u001b[1;32mIn[9], line 3\u001b[1;36m\u001b[0m\n\u001b[1;33m    cricketers_scores(k) = 267\u001b[0m\n\u001b[1;37m    ^\u001b[0m\n\u001b[1;31mSyntaxError\u001b[0m\u001b[1;31m:\u001b[0m cannot assign to function call here. Maybe you meant '==' instead of '='?\n"
     ]
    }
   ],
   "source": [
    "for k in cricketers_scores.keys():\n",
    "    if k ==' rohit sharma':\n",
    "        cricketers_scores(k) = 267\n",
    "        "
   ]
  },
  {
   "cell_type": "code",
   "execution_count": 21,
   "id": "7600b1f6-9af7-401f-a65f-7f7b1adf9124",
   "metadata": {},
   "outputs": [
    {
     "name": "stdout",
     "output_type": "stream",
     "text": [
      "[122, 264, 183, 190, 91, 53]\n",
      "total score:  903\n"
     ]
    }
   ],
   "source": [
    "cricketers_scores_list = []\n",
    "for v in cricketers_scores . values():\n",
    "   cricketers_scores_list.append(v)\n",
    "print(cricketers_scores_list)\n",
    "print(\"total score: \", sum(cricketers_scores_list))"
   ]
  },
  {
   "cell_type": "code",
   "execution_count": null,
   "id": "458a64e5-210d-45bb-b022-61bb8704e3a6",
   "metadata": {},
   "outputs": [],
   "source": []
  }
 ],
 "metadata": {
  "kernelspec": {
   "display_name": "Python [conda env:base] *",
   "language": "python",
   "name": "conda-base-py"
  },
  "language_info": {
   "codemirror_mode": {
    "name": "ipython",
    "version": 3
   },
   "file_extension": ".py",
   "mimetype": "text/x-python",
   "name": "python",
   "nbconvert_exporter": "python",
   "pygments_lexer": "ipython3",
   "version": "3.12.7"
  }
 },
 "nbformat": 4,
 "nbformat_minor": 5
}
