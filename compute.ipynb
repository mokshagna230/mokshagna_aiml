{
 "cells": [
  {
   "cell_type": "code",
   "execution_count": 5,
   "id": "921f9de4-ad15-4757-b952-965b407ba51c",
   "metadata": {},
   "outputs": [],
   "source": [
    "greet = lambda name : print(f\"Good Morning{name}\")\n"
   ]
  },
  {
   "cell_type": "code",
   "execution_count": 7,
   "id": "e84a9ab3-ddc5-431d-a387-6bfd73bbb660",
   "metadata": {},
   "outputs": [
    {
     "name": "stdout",
     "output_type": "stream",
     "text": [
      "Good Morningnikhil\n"
     ]
    }
   ],
   "source": [
    "greet(\"nikhil\")"
   ]
  },
  {
   "cell_type": "code",
   "execution_count": 9,
   "id": "1f77cc81-4dd3-4402-af65-26d6843b7eb1",
   "metadata": {},
   "outputs": [
    {
     "name": "stdin",
     "output_type": "stream",
     "text": [
      "Enter first order:  5\n",
      "Enter second order:  2\n",
      "Enter third order:  9\n"
     ]
    },
    {
     "name": "stdout",
     "output_type": "stream",
     "text": [
      "The avarage of numbers = 5.33\n"
     ]
    }
   ],
   "source": [
    "avg = (lambda num1,num2,num3: (num1 + num2 + num3) /3)\n",
    "num1 = float(input('Enter first order: '))\n",
    "num2 = float(input('Enter second order: '))\n",
    "num3 = float(input('Enter third order: '))\n",
    "avarage = avg(num1,num2,num3)\n",
    "print('The avarage of numbers = %0.2f' % avarage)"
   ]
  },
  {
   "cell_type": "code",
   "execution_count": 11,
   "id": "ca5402b6-b9e7-4970-96ed-8966a310cce5",
   "metadata": {},
   "outputs": [
    {
     "name": "stdout",
     "output_type": "stream",
     "text": [
      "The product of the numbers is : 24\n"
     ]
    }
   ],
   "source": [
    "product = lambda x,y,z:x * y * z\n",
    "result = product(2,3,4)\n",
    "print(\"The product of the numbers is :\",result)"
   ]
  },
  {
   "cell_type": "code",
   "execution_count": 13,
   "id": "ddc86b1f-4f35-4cc4-b15a-1ff63aeefd97",
   "metadata": {},
   "outputs": [],
   "source": [
    "even = lambda L:[x for x in L if x%2 ==0]"
   ]
  },
  {
   "cell_type": "code",
   "execution_count": 15,
   "id": "fc13f2e3-4ca0-4dfa-adbe-e6e8c9bef8e6",
   "metadata": {},
   "outputs": [
    {
     "data": {
      "text/plain": [
       "[100, 38, 56, 20]"
      ]
     },
     "execution_count": 15,
     "metadata": {},
     "output_type": "execute_result"
    }
   ],
   "source": [
    "my_list = [100,3,9,38,43,56,20]\n",
    "even(my_list)"
   ]
  },
  {
   "cell_type": "code",
   "execution_count": 23,
   "id": "4ec4bc10-336a-4294-b781-8776a768e030",
   "metadata": {},
   "outputs": [],
   "source": [
    "def mean_value(*n):\n",
    "    sum = 0\n",
    "    counter = 0\n",
    "    for x in n:\n",
    "        counter = counter +1\n",
    "        sum += x\n",
    "    mean = sum/counter\n",
    "    return mean"
   ]
  },
  {
   "cell_type": "code",
   "execution_count": 19,
   "id": "9a6f2c07-5c58-42f6-971d-95419684d739",
   "metadata": {},
   "outputs": [],
   "source": [
    "def product(*n):\n",
    "    result = 1\n",
    "    for i in range(len(n)):\n",
    "        result *=n[i]\n",
    "        return result"
   ]
  },
  {
   "cell_type": "code",
   "execution_count": 25,
   "id": "f6209484-a33e-4eab-b3a9-1b1b9617428b",
   "metadata": {},
   "outputs": [
    {
     "data": {
      "text/plain": [
       "2"
      ]
     },
     "execution_count": 25,
     "metadata": {},
     "output_type": "execute_result"
    }
   ],
   "source": [
    "product(2,4,9)"
   ]
  },
  {
   "cell_type": "code",
   "execution_count": null,
   "id": "ccbb418d-1de7-4d6c-9f11-2cce0d7b163c",
   "metadata": {},
   "outputs": [],
   "source": []
  }
 ],
 "metadata": {
  "kernelspec": {
   "display_name": "Python [conda env:base] *",
   "language": "python",
   "name": "conda-base-py"
  },
  "language_info": {
   "codemirror_mode": {
    "name": "ipython",
    "version": 3
   },
   "file_extension": ".py",
   "mimetype": "text/x-python",
   "name": "python",
   "nbconvert_exporter": "python",
   "pygments_lexer": "ipython3",
   "version": "3.12.7"
  }
 },
 "nbformat": 4,
 "nbformat_minor": 5
}
