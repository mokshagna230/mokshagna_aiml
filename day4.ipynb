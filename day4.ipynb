{
 "cells": [
  {
   "cell_type": "code",
   "execution_count": 1,
   "id": "6a80efca-6058-4a77-b767-dba18478250b",
   "metadata": {},
   "outputs": [],
   "source": [
    "def mean_value(given_list):\n",
    "    total = sum(given_list)\n",
    "    avarage_value = total/len(given_list)\n",
    "    return avarage_value"
   ]
  },
  {
   "cell_type": "code",
   "execution_count": 5,
   "id": "dca4c575-4468-47a0-ae4c-8c5dc20d104f",
   "metadata": {},
   "outputs": [
    {
     "data": {
      "text/plain": [
       "5.5"
      ]
     },
     "execution_count": 5,
     "metadata": {},
     "output_type": "execute_result"
    }
   ],
   "source": [
    "L = [1,2,3,4,5,6,7,8,9,10]\n",
    "mean_value(L)"
   ]
  },
  {
   "cell_type": "code",
   "execution_count": 7,
   "id": "fd57016b-fcea-4bd3-9f2d-b91729371a36",
   "metadata": {},
   "outputs": [],
   "source": [
    "def greet(name):\n",
    "    print(f\"good morning {name}!\")\n",
    "    "
   ]
  },
  {
   "cell_type": "code",
   "execution_count": 9,
   "id": "ce8d6321-86c7-4abc-b799-a50861d5e33d",
   "metadata": {
    "scrolled": true
   },
   "outputs": [
    {
     "name": "stdout",
     "output_type": "stream",
     "text": [
      "good morning nikhil!\n"
     ]
    }
   ],
   "source": [
    "greet(\"nikhil\")\n"
   ]
  },
  {
   "cell_type": "code",
   "execution_count": null,
   "id": "276c39e3-f8b2-47f6-be04-f5e8b52a7583",
   "metadata": {},
   "outputs": [],
   "source": []
  }
 ],
 "metadata": {
  "kernelspec": {
   "display_name": "Python [conda env:base] *",
   "language": "python",
   "name": "conda-base-py"
  },
  "language_info": {
   "codemirror_mode": {
    "name": "ipython",
    "version": 3
   },
   "file_extension": ".py",
   "mimetype": "text/x-python",
   "name": "python",
   "nbconvert_exporter": "python",
   "pygments_lexer": "ipython3",
   "version": "3.12.7"
  }
 },
 "nbformat": 4,
 "nbformat_minor": 5
}
